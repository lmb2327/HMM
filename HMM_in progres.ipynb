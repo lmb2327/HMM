{
 "cells": [
  {
   "cell_type": "markdown",
   "metadata": {},
   "source": [
    "HMM Personal Project\n",
    "\n",
    "This project aims to use the Hidden Markov Model to identify different regimes in a Time Series.\n",
    "The HMM model will be done from scratch, and the results will be validated using external libraries.\n",
    "An effort is made to use as little external libraries as possible."
   ]
  },
  {
   "cell_type": "markdown",
   "metadata": {},
   "source": [
    "Imports"
   ]
  },
  {
   "cell_type": "code",
   "execution_count": 111,
   "metadata": {},
   "outputs": [],
   "source": [
    "import numpy as np\n",
    "import pandas as pd\n",
    "import matplotlib.pyplot as plt"
   ]
  },
  {
   "cell_type": "markdown",
   "metadata": {},
   "source": [
    "Synthetic parameters used to create the time series"
   ]
  },
  {
   "cell_type": "code",
   "execution_count": 112,
   "metadata": {},
   "outputs": [
    {
     "name": "stdout",
     "output_type": "stream",
     "text": [
      "[[0.9  0.05 0.05]\n",
      " [0.1  0.7  0.2 ]\n",
      " [0.05 0.05 0.9 ]]\n"
     ]
    }
   ],
   "source": [
    "#Number of States\n",
    "N = 3\n",
    "\n",
    "#Number of observations\n",
    "T = 400\n",
    "\n",
    "#initial probability distribution, three state markov chain\n",
    "pi = [0.3,0.5,0.2]\n",
    "\n",
    "#transition probability matrix\n",
    "A= np.array([[0.9,0.05,0.05],[0.1,0.7,0.2],[0.05,0.05,0.9]])\n",
    "print(A)\n",
    "\n",
    "#set seed\n",
    "np.random.seed(1342)"
   ]
  },
  {
   "cell_type": "markdown",
   "metadata": {},
   "source": [
    "Lets assume we are looking at coin tosses, and three coins are available.\n",
    "\n",
    "State 1: Coin 1: tail biased, 0,7 tails, 0.3 heads\\\n",
    "State 2: Coin 2: Fair Coin: 0.5, tails, 0.5 heads\\\n",
    "State 3: Coin 3: head biased, 0.2 tails, 0.8 heads\n",
    "\n",
    "\n",
    "Say we gain 1 dollar when we hit heads, and loose 1 dollar with tails, we can create a realization of this multi-state random walk"
   ]
  },
  {
   "cell_type": "code",
   "execution_count": 113,
   "metadata": {},
   "outputs": [],
   "source": [
    "#coin variables\n",
    "dbias_tails = 0.7\n",
    "fbias_tails = 0.5\n",
    "ubias_tails = 0.2\n",
    "\n",
    "#Probability distribution of the observations at each state (b emission matrix)\n",
    "b = np.array([[dbias_tails, 1-dbias_tails],[fbias_tails, 1-fbias_tails],[ubias_tails, 1-ubias_tails]])"
   ]
  },
  {
   "cell_type": "code",
   "execution_count": 114,
   "metadata": {},
   "outputs": [],
   "source": [
    "#set the initial state\n",
    "rand = np.random.uniform()\n",
    "lhs = 0\n",
    "\n",
    "#Use the random uniform variable and the distribution to find which state we are starting in\n",
    "for i in pi:\n",
    "    if rand <= i + lhs:\n",
    "        state = pi.index(i)\n",
    "        break\n",
    "    lhs += i\n",
    "\n",
    "#States array\n",
    "states = [state]\n",
    "\n",
    "#Realization array\n",
    "realization = []\n",
    "running = 0\n",
    "observations = []\n",
    "\n",
    "for iteration in range(T):\n",
    "    #we know which state we start in (which coin we have), we flip the coin\n",
    "    u = np.random.uniform()\n",
    "    match state:\n",
    "        case 0:\n",
    "            if u < dbias_tails:\n",
    "                running = running - 1\n",
    "                realization.append(running)\n",
    "                observations.append(0)\n",
    "            else:\n",
    "                running = running + 1\n",
    "                realization.append(running)\n",
    "                observations.append(1)\n",
    "        case 1:\n",
    "            if u < fbias_tails:\n",
    "                running = running - 1\n",
    "                realization.append(running)\n",
    "                observations.append(0)\n",
    "            else:\n",
    "                running = running + 1\n",
    "                realization.append(running)\n",
    "                observations.append(1)\n",
    "        case 2:\n",
    "            if u < ubias_tails:\n",
    "                running = running - 1\n",
    "                realization.append(running)\n",
    "                observations.append(0)\n",
    "            else:\n",
    "                running = running + 1\n",
    "                realization.append(running)\n",
    "                observations.append(1)\n",
    "    \n",
    "    #Once the flip is done and the score is updated, we may or may not change states\n",
    "    u2 = np.random.uniform()\n",
    "    distr = A[state,:]\n",
    "    lhs = 0\n",
    "    for j in distr:\n",
    "        if u2 <= j + lhs:\n",
    "            state = np.where(distr==j)[0][0]\n",
    "            break\n",
    "        lhs += j\n",
    "    states.append(state)\n",
    "\n",
    "observations = np.array(observations)"
   ]
  },
  {
   "cell_type": "markdown",
   "metadata": {},
   "source": [
    "Plot realization and states"
   ]
  },
  {
   "cell_type": "code",
   "execution_count": 115,
   "metadata": {},
   "outputs": [
    {
     "name": "stdout",
     "output_type": "stream",
     "text": [
      "3\n"
     ]
    },
    {
     "data": {
      "image/png": "[encoded data removed]",
      "text/plain": [
       "<Figure size 1200x600 with 1 Axes>"
      ]
     },
     "metadata": {},
     "output_type": "display_data"
    }
   ],
   "source": [
    "fig, ax1 = plt.subplots(figsize = (12,6))\n",
    "print(N)\n",
    "\n",
    "ax1.plot(realization, color='blue', label='Realization')\n",
    "ax1.set_xlabel('Coin tosses')\n",
    "ax1.set_ylabel('Running score', color='blue')\n",
    "ax1.tick_params(axis='y', labelcolor='blue')\n",
    "\n",
    "for i in range(len(states)):\n",
    "    if states[i] == 0:\n",
    "        ax1.axvspan(i, i+1, facecolor='red', alpha=0.3)\n",
    "    elif states[i] == 1:\n",
    "        ax1.axvspan(i, i+1, facecolor='yellow', alpha=0.3)\n",
    "    elif states[i] == 2:\n",
    "        ax1.axvspan(i, i+1, facecolor='green', alpha=0.3)\n",
    "\n",
    "ax1.text(0.95, 0.95, 'Red: State 0', transform=ax1.transAxes, fontsize=12, verticalalignment='top', horizontalalignment='right')\n",
    "ax1.text(0.95, 0.90, 'Yellow: State 1', transform=ax1.transAxes, fontsize=12, verticalalignment='top', horizontalalignment='right')\n",
    "ax1.text(0.95, 0.85, 'Green: State 2', transform=ax1.transAxes, fontsize=12, verticalalignment='top', horizontalalignment='right')\n",
    "\n",
    "plt.show()\n"
   ]
  },
  {
   "cell_type": "markdown",
   "metadata": {},
   "source": [
    "Now that we have our realization, we will try to find the states and the parameters using the HMM model\\\n",
    "\n",
    "In practice this would be as if we observed someone play the coin-flip game for 1000 flips and are now trying to infer the model from these observations. We do not know the state sequence or the transition probabilities."
   ]
  },
  {
   "cell_type": "markdown",
   "metadata": {},
   "source": [
    "To do so, we use the forward-backward algorithm, or Baum-Welch algorithm, which is an EM algorithm.\\\n",
    "For this, we need an initial estimate of the A matrix and emission probabilites."
   ]
  },
  {
   "cell_type": "markdown",
   "metadata": {},
   "source": [
    "The forward algorithm: It allows to find the probability of being in state j after seeing the first to observations, given the HMM parameters\n",
    "\n",
    "#### Initialization:\n",
    "\n",
    "$$\n",
    "\\alpha_{1}(j)=\\pi_{j} b_{j}\\left(o_{1}\\right) \\quad 1 \\leq j \\leq N\n",
    "$$\n",
    "\n",
    "#### Recursion\n",
    "\n",
    "$$\n",
    "\\alpha_{t}(j)=\\sum_{i=1}^{N} \\alpha_{t-1}(i) a_{i j} b_{j}\\left(o_{t}\\right) ; \\quad 1 \\leq j \\leq N, 1<t \\leq T\n",
    "$$\n",
    "\n",
    "#### Termination\n",
    "\n",
    "$$\n",
    "P(O \\mid \\lambda)=\\sum_{i=1}^{N} \\alpha_{T}(i)\n",
    "$$"
   ]
  },
  {
   "cell_type": "code",
   "execution_count": 116,
   "metadata": {},
   "outputs": [],
   "source": [
    "#this is our probability matrix\n",
    "def compute_forward(N,T,A,b,pi,observations):\n",
    "    forward = np.zeros((N, T))\n",
    "\n",
    "    for j in range(N):\n",
    "        forward[j,0] =  pi[j]*b[j,observations[0]]\n",
    "\n",
    "    for t in range(1,T):\n",
    "        for n in range(N):\n",
    "            #np.ones for the sum, forward[]*A[][] multiplies each state by the transition probability to state n, and b[]\n",
    "            #gives the probability of seeing observation t when in state n\n",
    "            forward[n,t] = np.sum(forward[:,t-1]*A[:,n]*b[n,observations[t]])\n",
    "\n",
    "    forwardprob = np.sum(forward[:,T-1])\n",
    "    return forward,forwardprob\n"
   ]
  },
  {
   "cell_type": "markdown",
   "metadata": {},
   "source": [
    "Now we need to do the backward algorithm: The backward probability $\\beta$ is the probability of seeing the observations from time $t+1$ to the end, given that we are in state $i$ at time $t$ (and given the automaton $\\lambda$ ) [1]:\n",
    "\n",
    "$$\n",
    "\\begin{equation*}\n",
    "\\beta_{t}(i)=P\\left(o_{t+1}, o_{t+2} \\ldots o_{T} \\mid q_{t}=i, \\lambda\\right)\n",
    "\\end{equation*}\n",
    "$$\n",
    "\n",
    "#### Initialization\n",
    "\n",
    "$$\n",
    "\\beta_{T}(i) = 1, \\quad 1 \\leq i \\leq N\n",
    "$$\n",
    "\n",
    "#### Recursion\n",
    "\n",
    "$$\n",
    "\\beta_{t}(i) = \\sum_{j=1}^{N} a_{i j} b_{j}\\left(o_{t+1}\\right) \\beta_{t+1}(j), \\quad 1 \\leq i \\leq N, \\; 1 \\leq t < T\n",
    "$$\n",
    "\n",
    "#### Termination\n",
    "\n",
    "$$\n",
    "P(O \\mid \\lambda) = \\sum_{j=1}^{N} \\pi_{j} b_{j}\\left(o_{1}\\right) \\beta_{1}(j)\n",
    "$$"
   ]
  },
  {
   "cell_type": "code",
   "execution_count": 117,
   "metadata": {},
   "outputs": [],
   "source": [
    "def compute_backward(N,T,A,b,pi,observations):\n",
    "\n",
    "    #this is our probability matrix\n",
    "    backward = np.zeros((N, T))\n",
    "\n",
    "    for i in range(N):\n",
    "        backward[i,T-1] =  1\n",
    "\n",
    "    for t in reversed(range(0,T-1)):\n",
    "        for n in range(N):\n",
    "            #np.ones for the sum, backward[]*A[][] multiplies each state by the transition probability to state n, and b[]\n",
    "            #gives the probability of seeing observation t+1 when in state n        \n",
    "            backward[n,t] = np.sum(backward[:,t+1]*A[n,:]*b[:,observations[t+1]])\n",
    "\n",
    "    backwardprob = np.sum(pi*b[:,observations[0]]*backward[:,0])\n",
    "\n",
    "    return backward,backwardprob"
   ]
  },
  {
   "cell_type": "markdown",
   "metadata": {},
   "source": [
    "We will need to know the probability of being in state $j$ at time $t$, which we will call $\\gamma_{t}(j)$ :\n",
    "\n",
    "$$\n",
    "\\begin{equation*}\n",
    "\\gamma_{t}(j)=P\\left(q_{t}=j \\mid O, \\lambda\\right) \\tag{A.25}\n",
    "\\end{equation*}\n",
    "$$\n",
    "\n",
    "Once again, we will compute this by including the observation sequence in the probability:\n",
    "\n",
    "$$\n",
    "\\begin{equation*}\n",
    "\\gamma_{t}(j)=\\frac{P\\left(q_{t}=j, O \\mid \\lambda\\right)}{P(O \\mid \\lambda)} \\tag{A.26}\n",
    "\\end{equation*}\n",
    "$$\n",
    "\n",
    "This just the product of the forward probability and the backward probability:\n",
    "\n",
    "$$\n",
    "\\begin{equation*}\n",
    "\\gamma_{t}(j)=\\frac{\\alpha_{t}(j) \\beta_{t}(j)}{P(O \\mid \\lambda)} \\tag{A.27}\n",
    "\\end{equation*}\n",
    "$$\n"
   ]
  },
  {
   "cell_type": "code",
   "execution_count": 118,
   "metadata": {},
   "outputs": [],
   "source": [
    "def compute_gamma(forward,backward,forwardprob):\n",
    "    gamma = forward*backward/forwardprob\n",
    "    return gamma"
   ]
  },
  {
   "cell_type": "markdown",
   "metadata": {},
   "source": [
    "Let's begin by seeing how to estimate $\\hat{a}_{i j}$ by a variant of simple maximum likelihood estimation:\n",
    "\n",
    "$$\n",
    "\\begin{equation*}\n",
    "\\hat{a}_{i j}=\\frac{\\text { expected number of transitions from state } i \\text { to state } j}{\\text { expected number of transitions from state } i} \\tag{A.16}\n",
    "\\end{equation*}\n",
    "$$\n",
    "\n",
    "How do we compute the numerator? Here's the intuition. Assume we had some estimate of the probability that a given transition $i \\rightarrow j$ was taken at a particular point in time $t$ in the observation sequence. If we knew this probability for each particular time $t$, we could sum over all times $t$ to estimate the total count for the transition $i \\rightarrow j$.\n",
    "\n",
    "More formally, let's define the probability $\\xi_{t}$ as the probability of being in state $i$ at time $t$ and state $j$ at time $t+1$, given the observation sequence and of course the model:\n",
    "\n",
    "$$\n",
    "\\begin{equation*}\n",
    "\\xi_{t}(i, j)=P\\left(q_{t}=i, q_{t+1}=j \\mid O, \\lambda\\right) \\tag{A.17}\n",
    "\\end{equation*}\n",
    "$$\n",
    "\n",
    "To compute $\\xi_{t}$, we first compute a probability which is similar to $\\xi_{t}$, but differs in including the probability of the observation; note the different conditioning of $O$ from bq. A. 17 :\n",
    "\n",
    "$$\n",
    "\\begin{equation*}\n",
    "\\text { not-quite- } \\xi_{t}(i, j)=P\\left(q_{t}=i, q_{t+1}=j, O \\mid \\lambda\\right) \\tag{A.18}\n",
    "\\end{equation*}\n",
    "$$\n",
    "\n",
    "To produce not-quite- $\\xi_{t}$ as follows:\n",
    "\n",
    "$$\n",
    "\\begin{equation*}\n",
    "\\text { not-quite- } \\xi_{t}(i, j)=\\alpha_{t}(i) a_{i j} b_{j}\\left(o_{t+1}\\right) \\beta_{t+1}(j) \\tag{A.19}\n",
    "\\end{equation*}\n",
    "$$\n",
    "\n",
    "To compute $\\xi_{t}$ from not-quite- $\\xi_{t}$, we follow the laws of probability and divide by $P(O \\mid \\lambda)$, since\n",
    "\n",
    "$$\n",
    "\\begin{equation*}\n",
    "P(X \\mid Y, Z)=\\frac{P(X, Y \\mid Z)}{P(Y \\mid Z)} \\tag{A.20}\n",
    "\\end{equation*}\n",
    "$$\n",
    "\n",
    "The probability of the observation given the model is simply the forward probability of the whole utterance (or alternatively, the backward probability of the whole utterance):\n",
    "\n",
    "$$\n",
    "\\begin{equation*}\n",
    "P(O \\mid \\lambda)=\\sum_{j=1}^{N} \\alpha_{t}(j) \\beta_{t}(j) \\tag{A.21}\n",
    "\\end{equation*}\n",
    "$$\n",
    "\n",
    "So, the final equation for $\\xi_{t}$ is\n",
    "\n",
    "$$\n",
    "\\begin{equation*}\n",
    "\\xi_{t}(i, j)=\\frac{\\alpha_{t}(i) a_{i j} b_{j}\\left(o_{t+1}\\right) \\beta_{t+1}(j)}{\\sum_{j=1}^{N} \\alpha_{t}(j) \\beta_{t}(j)} \\tag{A.22}\n",
    "\\end{equation*}\n",
    "$$"
   ]
  },
  {
   "cell_type": "code",
   "execution_count": 119,
   "metadata": {},
   "outputs": [],
   "source": [
    "def comptute_xi(N,T,A,b,observations,forward,backward,forwardprob):\n",
    "    nqxi = np.zeros((T,N,N))\n",
    "\n",
    "    for t in range(0,T-1):\n",
    "        for i in range(N):\n",
    "            for j in range(N):\n",
    "                nqxi[t,i,j] = forward[i,t]*A[i,j]*b[j,observations[t+1]]*backward[j,t+1]\n",
    "\n",
    "    xi = nqxi/forwardprob\n",
    "    return xi"
   ]
  },
  {
   "cell_type": "markdown",
   "metadata": {},
   "source": [
    "The expected number of transitions from state $i$ to state $j$ is then the sum over all $t$ of $\\xi$. For our estimate of $a_{i j}$, we just need one more thing: the total expected number of transitions from state $i$. We can get this by summing over all transitions out of state $i$. Here's the final formula for $\\hat{a}_{i j}$ :\n",
    "\n",
    "$$\n",
    "\\begin{equation*}\n",
    "\\hat{a}_{i j}=\\frac{\\sum_{t=1}^{T-1} \\xi_{t}(i, j)}{\\sum_{t=1}^{T-1} \\sum_{k=1}^{N} \\xi_{t}(i, k)} \\tag{A.23}\n",
    "\\end{equation*}\n",
    "$$"
   ]
  },
  {
   "cell_type": "code",
   "execution_count": 120,
   "metadata": {},
   "outputs": [],
   "source": [
    "def compute_ahat(xi,N):\n",
    "    a_hat = np.zeros((N,N))\n",
    "    \n",
    "    for i in range(N):\n",
    "        for j in range(N):\n",
    "            a_hat[i,j] = np.sum(xi[:-1,i,j])/np.sum(xi[:-1,i,:])\n",
    "        \n",
    "    return a_hat"
   ]
  },
  {
   "cell_type": "markdown",
   "metadata": {},
   "source": [
    "We are ready to compute $b$. For the numerator, we sum $\\gamma_{t}(j)$ for all time steps $t$ in which the observation $o_{t}$ is the symbol $v_{k}$ that we are interested in. For the denominator, we sum $\\gamma_{t}(j)$ over all time steps $t$. The result is the percentage of the times that we were in state $j$ and saw symbol $v_{k}$ (the notation $\\sum_{t=1 \\text { s.t. } O_{t}=v_{k}}^{T}$ means \"sum over all $t$ for which the observation at time $t$ was $v_{k}$ \"):\n",
    "\n",
    "$$\n",
    "\\begin{equation*}\n",
    "\\hat{b}_{j}\\left(v_{k}\\right)=\\frac{\\sum_{t=1 \\text { s.t. } O_{t}=v_{k}}^{T} \\gamma_{t}(j)}{\\sum_{t=1}^{T} \\gamma_{t}(j)} \\tag{A.28}\n",
    "\\end{equation*}\n",
    "$$"
   ]
  },
  {
   "cell_type": "code",
   "execution_count": 121,
   "metadata": {},
   "outputs": [],
   "source": [
    "#In our case, b is a 3*2 array\n",
    "def compute_bhat(N,gamma,observations):\n",
    "    bhat = np.zeros((N,2))\n",
    "    tailsid = np.where(observations == 0)[0]\n",
    "    headsid = np.where(observations == 1)[0]\n",
    "\n",
    "    for j in range(N):\n",
    "        bhat[j,0]= np.sum(gamma[j,tailsid])/np.sum(gamma[j,:])\n",
    "        bhat[j,1]= np.sum(gamma[j,headsid])/np.sum(gamma[j,:])\n",
    "    \n",
    "    return bhat\n",
    "\n",
    "\n",
    "\n"
   ]
  },
  {
   "cell_type": "markdown",
   "metadata": {},
   "source": [
    "We can now use the expectation maximimization algorithm. We start with an estimate of A,b,and pi.\n"
   ]
  },
  {
   "cell_type": "code",
   "execution_count": 122,
   "metadata": {},
   "outputs": [],
   "source": [
    "#As an initial guess, we can assume some persistence in the model\n",
    "A_hat = np.array([[1/3,1/3,1/3],\n",
    "                  [1/3,1/3,1/3],\n",
    "                  [1/3,1/3,1/3]])\n",
    "\n",
    "#We can also start by assuming there is an up-bias, down bias and neutral state\n",
    "b_hat = np.array([[0.6,0.4],\n",
    "                  [0.5,0.5],\n",
    "                  [0.4,0.6]])\n",
    "\n",
    "#We will also assume the probability of starting in each state is equal\n",
    "pi_hat = np.array([1/3,1/3,1/3])"
   ]
  },
  {
   "cell_type": "markdown",
   "metadata": {},
   "source": [
    "EM Algorithm:"
   ]
  },
  {
   "cell_type": "code",
   "execution_count": 123,
   "metadata": {},
   "outputs": [],
   "source": [
    "def EM(N,T,A_hat,b_hat,pi_hat,observations):\n",
    "    iterations = 3000\n",
    "    threshold = 0.000001\n",
    "    prev_log_likelihood = -np.inf\n",
    "    logr = []\n",
    "\n",
    "    for i in range(iterations):\n",
    "        #Expectation step\n",
    "        forw, forwprob = compute_forward(N,T,A_hat,b_hat,pi_hat,observations)\n",
    "        back,backprob = compute_backward(N,T,A_hat,b_hat,pi_hat,observations)\n",
    "        gam = compute_gamma(forw,back,forwprob)\n",
    "\n",
    "        xi_hat = comptute_xi(N,T,A_hat,b_hat,observations,forw,back,forwprob)\n",
    "\n",
    "        #M-step\n",
    "        A_hat = compute_ahat(xi_hat,N)\n",
    "        b_hat = compute_bhat(N,gam,observations)\n",
    "        #pi_hat = gam[:,0]\n",
    "\n",
    "        # Calculate the log-likelihood\n",
    "        log_likelihood = np.log(forwprob)\n",
    "        logr.append(log_likelihood)\n",
    "\n",
    "        # Check for convergence\n",
    "        if np.abs(log_likelihood - prev_log_likelihood) < threshold:\n",
    "            print(f\"Converged after {i} iterations\")\n",
    "            break\n",
    "\n",
    "        prev_log_likelihood = log_likelihood\n",
    "\n",
    "\n",
    "    print(\"THE ESTIMATE FOR A IS\")\n",
    "    print(np.round(A_hat,2))\n",
    "    print(\"THE ESTIMATE FOR b IS\")\n",
    "    print(np.round(b_hat,2))\n",
    "\n",
    "\n",
    "    plt.plot(logr)\n",
    "    plt.title(\"log-likelihood\")\n",
    "    plt.show()\n",
    "\n"
   ]
  },
  {
   "cell_type": "code",
   "execution_count": 124,
   "metadata": {},
   "outputs": [
    {
     "name": "stdout",
     "output_type": "stream",
     "text": [
      "Converged after 1726 iterations\n",
      "THE ESTIMATE FOR A IS\n",
      "[[0.77 0.18 0.05]\n",
      " [0.52 0.48 0.  ]\n",
      " [0.07 0.   0.93]]\n",
      "THE ESTIMATE FOR b IS\n",
      "[[0.4  0.6 ]\n",
      " [1.   0.  ]\n",
      " [0.18 0.82]]\n"
     ]
    },
    {
     "data": {
      "image/png": "[encoded data removed]",
      "text/plain": [
       "<Figure size 640x480 with 1 Axes>"
      ]
     },
     "metadata": {},
     "output_type": "display_data"
    }
   ],
   "source": [
    "EM(N,T,A_hat,b_hat,pi_hat,observations)"
   ]
  }
 ],
 "metadata": {
  "kernelspec": {
   "display_name": "Python 3",
   "language": "python",
   "name": "python3"
  },
  "language_info": {
   "codemirror_mode": {
    "name": "ipython",
    "version": 3
   },
   "file_extension": ".py",
   "mimetype": "text/x-python",
   "name": "python",
   "nbconvert_exporter": "python",
   "pygments_lexer": "ipython3",
   "version": "3.11.9"
  }
 },
 "nbformat": 4,
 "nbformat_minor": 2
}
